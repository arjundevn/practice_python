{
 "cells": [
  {
   "cell_type": "code",
   "execution_count": 1,
   "metadata": {},
   "outputs": [],
   "source": [
    "import sys\n",
    "\n",
    "def display_table(a):\n",
    "    print (f\" {a[0]} | {a[1]} | {a[2]} \\n___|___|___\\n {a[3]} | {a[4]} | {a[5]} \\n___|___|___\\n {a[6]} | {a[7]} | {a[8]} \\n   |   |   \\n\")\n",
    "\n",
    "def player_select():\n",
    "    p1=input(\"Player 1, select 'X' OR 'O':\")\n",
    "    if p1=='X':\n",
    "        p2='O'\n",
    "    elif p1=='O':\n",
    "        p2='X'\n",
    "    else:\n",
    "        player_select()\n",
    "    return p1,p2\n",
    "\n",
    "def check_winner(o,a):\n",
    "    if (a[0]==a[1]==a[2]=='X' or a[0]==a[1]==a[2]=='O') or (a[3]==a[4]==a[5]=='X' or a[3]==a[4]==a[5]=='O') or (a[6]==a[7]==a[8]=='X' or a[6]==a[7]==a[8]=='O') or (a[0]==a[3]==a[6]=='X' or a[0]==a[3]==a[6]=='O') or (a[1]==a[4]==a[7]=='X' or a[1]==a[4]==a[7]=='O') or (a[2]==a[5]==a[8]=='X' or a[2]==a[5]==a[8]=='O') or (a[2]==a[4]==a[6]=='X' or a[2]==a[4]==a[6]=='O') or (a[0]==a[4]==a[8]=='X' or a[0]==a[4]==a[8]=='O'):\n",
    "        print(f\"{o} wins\")\n",
    "        main()\n",
    "        \n",
    "\n",
    "def turn(ps,a):\n",
    "    i=int(input(\"Player 1,Please enter the position(1-9):\"))\n",
    "    a[i-1]= ps[0]\n",
    "    display_table(a)\n",
    "    check_winner(\"Player 1\",a)\n",
    "    for x in range(0,9):\n",
    "        if a[x]==' ':\n",
    "            break\n",
    "    else:\n",
    "        print(\"Draw match\")\n",
    "        sys.exit()\n",
    "    i=int(input(\"Player 2,Please enter the position(1-9):\"))\n",
    "    a[i-1]= ps[1]\n",
    "    display_table(a)\n",
    "    check_winner(\"Player 2\",a)\n",
    "    \n",
    "def main():\n",
    "    s=input(\"Ready to play Tic-Tac-Toe? \")\n",
    "    if s.lower()!='yes':\n",
    "        print(\"\\nSeems like you not interested, bye\")\n",
    "        sys.exit()\n",
    "    ps=player_select() \n",
    "    print(f\"\\nPlayer 1:{ps[0]} , Player 2:{ps[1]}\\n\")\n",
    "    a=[' ',' ',' ',' ',' ',' ',' ',' ',' ',' ']\n",
    "    while s.lower()=='yes':\n",
    "        turn(ps,a)"
   ]
  },
  {
   "cell_type": "code",
   "execution_count": null,
   "metadata": {},
   "outputs": [
    {
     "name": "stdout",
     "output_type": "stream",
     "text": [
      "Ready to play Tic-Tac-Toe? yes\n",
      "Player 1, select 'X' OR 'O':X\n",
      "\n",
      "Player 1:X , Player 2:O\n",
      "\n",
      "Player 1,Please enter the position(1-9):1\n",
      " X |   |   \n",
      "___|___|___\n",
      "   |   |   \n",
      "___|___|___\n",
      "   |   |   \n",
      "   |   |   \n",
      "\n",
      "Player 2,Please enter the position(1-9):5\n",
      " X |   |   \n",
      "___|___|___\n",
      "   | O |   \n",
      "___|___|___\n",
      "   |   |   \n",
      "   |   |   \n",
      "\n",
      "Player 1,Please enter the position(1-9):3\n",
      " X |   | X \n",
      "___|___|___\n",
      "   | O |   \n",
      "___|___|___\n",
      "   |   |   \n",
      "   |   |   \n",
      "\n",
      "Player 2,Please enter the position(1-9):8\n",
      " X |   | X \n",
      "___|___|___\n",
      "   | O |   \n",
      "___|___|___\n",
      "   | O |   \n",
      "   |   |   \n",
      "\n",
      "Player 1,Please enter the position(1-9):2\n",
      " X | X | X \n",
      "___|___|___\n",
      "   | O |   \n",
      "___|___|___\n",
      "   | O |   \n",
      "   |   |   \n",
      "\n",
      "Player 1 wins\n"
     ]
    }
   ],
   "source": [
    "main()"
   ]
  },
  {
   "cell_type": "code",
   "execution_count": null,
   "metadata": {},
   "outputs": [],
   "source": []
  }
 ],
 "metadata": {
  "kernelspec": {
   "display_name": "Python 3",
   "language": "python",
   "name": "python3"
  },
  "language_info": {
   "codemirror_mode": {
    "name": "ipython",
    "version": 3
   },
   "file_extension": ".py",
   "mimetype": "text/x-python",
   "name": "python",
   "nbconvert_exporter": "python",
   "pygments_lexer": "ipython3",
   "version": "3.7.0"
  }
 },
 "nbformat": 4,
 "nbformat_minor": 2
}
